{
 "cells": [
  {
   "cell_type": "code",
   "execution_count": 3,
   "id": "8a092d58-359b-4e64-9e81-7b67199f8668",
   "metadata": {},
   "outputs": [
    {
     "name": "stdout",
     "output_type": "stream",
     "text": [
      "[1, 5]\n"
     ]
    }
   ],
   "source": [
    "#1)\n",
    "def find_common_elements(arr1, arr2, arr3):\n",
    "    p1, p2, p3 = 0, 0, 0\n",
    "    result = []\n",
    "    \n",
    "    while p1 < len(arr1) and p2 < len(arr2) and p3 < len(arr3):\n",
    "        if arr1[p1] == arr2[p2] == arr3[p3]:\n",
    "            result.append(arr1[p1])\n",
    "            p1 += 1\n",
    "            p2 += 1\n",
    "            p3 += 1\n",
    "        elif arr1[p1] <= arr2[p2] and arr1[p1] <= arr3[p3]:\n",
    "            p1 += 1\n",
    "        elif arr2[p2] <= arr1[p1] and arr2[p2] <= arr3[p3]:\n",
    "            p2 += 1\n",
    "        else:\n",
    "            p3 += 1\n",
    "    \n",
    "    return result\n",
    "#Driver's code\n",
    "arr1 = [1,2,3,4,5]\n",
    "arr2 = [1,2,5,7,9] \n",
    "arr3 = [1,3,4,5,8]\n",
    "result=find_common_elements([1,2,3,4,5],[1,2,5,7,9], [1,3,4,5,8])\n",
    "print(result)"
   ]
  },
  {
   "cell_type": "code",
   "execution_count": 4,
   "id": "79d0f03f-c0f3-4b74-8fdc-ea2c1030c601",
   "metadata": {},
   "outputs": [
    {
     "name": "stdout",
     "output_type": "stream",
     "text": [
      "[[1, 4, 7], [2, 5, 8], [3, 6, 9]]\n"
     ]
    }
   ],
   "source": [
    "#3)\n",
    "def transpose(matrix):\n",
    "    rows = len(matrix)\n",
    "    columns = len(matrix[0])\n",
    "    \n",
    "    result = [[0] * rows for _ in range(columns)]\n",
    "    \n",
    "    for i in range(rows):\n",
    "        for j in range(columns):\n",
    "            result[j][i] = matrix[i][j]\n",
    "    \n",
    "    return result\n",
    "#Driver's code\n",
    "matrix = [[1,2,3],[4,5,6],[7,8,9]]\n",
    "result=transpose(matrix)\n",
    "print(result)"
   ]
  },
  {
   "cell_type": "code",
   "execution_count": 6,
   "id": "5d5a9df9-f53a-4313-9dcf-03ae599f2ab3",
   "metadata": {},
   "outputs": [
    {
     "name": "stdout",
     "output_type": "stream",
     "text": [
      "[2, 3, 5, 4, 1, 7]\n"
     ]
    }
   ],
   "source": [
    "#8)\n",
    "def rearrange_array(nums):\n",
    "    n = len(nums) // 2\n",
    "    result = []\n",
    "    \n",
    "    for i in range(n):\n",
    "        result.append(nums[i])\n",
    "        result.append(nums[i + n])\n",
    "    \n",
    "    return result\n",
    "## Driver's code\n",
    "nums = [2,5,1,3,4,7]\n",
    "n = 3\n",
    "result=rearrange_array(nums)\n",
    "print(result)"
   ]
  },
  {
   "cell_type": "code",
   "execution_count": 7,
   "id": "81c1f383-803a-41f9-9104-9307acdd2854",
   "metadata": {},
   "outputs": [
    {
     "name": "stdout",
     "output_type": "stream",
     "text": [
      "[16, 1, 0, 100, 9, 0, 1, 9, 16, 100]\n"
     ]
    }
   ],
   "source": [
    "#6)\n",
    "def sorted_squares(nums):\n",
    "    n = len(nums)\n",
    "    result = []\n",
    "    left, right = 0, n - 1\n",
    "    \n",
    "    while left <= right:\n",
    "        if abs(nums[left]) >= abs(nums[right]):\n",
    "            result.append(nums[left] ** 2)\n",
    "            left += 1\n",
    "        else:\n",
    "            result.append(nums[right] ** 2)\n",
    "            right -= 1\n",
    "    \n",
    "    while left < n:\n",
    "        result.append(nums[left] ** 2)\n",
    "        left += 1\n",
    "    \n",
    "    while right >= 0:\n",
    "        result.append(nums[right] ** 2)\n",
    "        right -= 1\n",
    "    \n",
    "    return result[::-1]\n",
    "\n",
    "#Driver's code\n",
    "nums = [-4,-1,0,3,10]\n",
    "result=sorted_squares(nums)\n",
    "print(result)\n",
    "\n"
   ]
  },
  {
   "cell_type": "code",
   "execution_count": null,
   "id": "f0c402d7-79e9-4708-b3b1-d037bfb87d27",
   "metadata": {},
   "outputs": [],
   "source": [
    "#$"
   ]
  }
 ],
 "metadata": {
  "kernelspec": {
   "display_name": "Python 3 (ipykernel)",
   "language": "python",
   "name": "python3"
  },
  "language_info": {
   "codemirror_mode": {
    "name": "ipython",
    "version": 3
   },
   "file_extension": ".py",
   "mimetype": "text/x-python",
   "name": "python",
   "nbconvert_exporter": "python",
   "pygments_lexer": "ipython3",
   "version": "3.10.8"
  }
 },
 "nbformat": 4,
 "nbformat_minor": 5
}
